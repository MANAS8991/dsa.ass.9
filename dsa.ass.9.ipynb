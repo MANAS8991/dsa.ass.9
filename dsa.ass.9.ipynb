{
 "cells": [
  {
   "cell_type": "markdown",
   "id": "70aa016b",
   "metadata": {},
   "source": [
    "# **Question 1**\n",
    "\n",
    "# Given an integer `n`, return *`true` if it is a power of two. Otherwise, return `false`*.\n",
    "\n",
    "# An integer `n` is a power of two, if there exists an integer `x` such that `n == 2x`.\n",
    "\n",
    "# **Example 1:**\n",
    "# Input: n = 1 \n",
    "\n",
    "# Output: true\n",
    "\n",
    "# **Example 2:**\n",
    "# Input: n = 16 \n",
    "\n",
    "# Output: true\n",
    "\n",
    "# **Example 3:**\n",
    "# Input: n = 3 \n",
    "\n",
    "# Output: false"
   ]
  },
  {
   "cell_type": "code",
   "execution_count": 1,
   "id": "3009937b",
   "metadata": {},
   "outputs": [
    {
     "name": "stdout",
     "output_type": "stream",
     "text": [
      "True\n",
      "True\n",
      "False\n"
     ]
    }
   ],
   "source": [
    "def isPowerOfTwo(n):\n",
    "    if n <= 0:\n",
    "        return False\n",
    "\n",
    "    return (n & (n - 1)) == 0\n",
    "n1 = 1\n",
    "print(isPowerOfTwo(n1))  # Output: True\n",
    "\n",
    "n2 = 16\n",
    "print(isPowerOfTwo(n2))  # Output: True\n",
    "\n",
    "n3 = 3\n",
    "print(isPowerOfTwo(n3))  # Output: False\n"
   ]
  },
  {
   "cell_type": "markdown",
   "id": "b4b7fb99",
   "metadata": {},
   "source": [
    "# **Question 2**\n",
    "\n",
    "# Given a number n, find the sum of the first natural numbers.\n",
    "\n",
    "# **Example 1:**\n",
    "\n",
    "# Input: n = 3 \n",
    "\n",
    "# Output: 6\n",
    "\n",
    "# **Example 2:**\n",
    "\n",
    "# Input  : 5 \n",
    "\n",
    "# Output : 15"
   ]
  },
  {
   "cell_type": "code",
   "execution_count": 2,
   "id": "8ae4c9d5",
   "metadata": {},
   "outputs": [
    {
     "name": "stdout",
     "output_type": "stream",
     "text": [
      "6.0\n",
      "15.0\n"
     ]
    }
   ],
   "source": [
    "def sumOfFirstN(n):\n",
    "    return (n / 2) * (1 + n)\n",
    "n1 = 3\n",
    "print(sumOfFirstN(n1))  # Output: 6\n",
    "\n",
    "n2 = 5\n",
    "print(sumOfFirstN(n2))  # Output: 15\n"
   ]
  },
  {
   "cell_type": "markdown",
   "id": "62c54374",
   "metadata": {},
   "source": [
    "# **Question 3**\n",
    "\n",
    "# ****Given a positive integer, N. Find the factorial of N. \n",
    "\n",
    "# **Example 1:**\n",
    "\n",
    "# Input: N = 5 \n",
    "\n",
    "# Output: 120\n",
    "\n",
    "# **Example 2:**\n",
    "\n",
    "# Input: N = 4\n",
    "\n",
    "# Output: 24"
   ]
  },
  {
   "cell_type": "code",
   "execution_count": 3,
   "id": "9a12cf3c",
   "metadata": {},
   "outputs": [
    {
     "name": "stdout",
     "output_type": "stream",
     "text": [
      "120\n",
      "24\n"
     ]
    }
   ],
   "source": [
    "def factorial(N):\n",
    "    if N == 0 or N == 1:\n",
    "        return 1\n",
    "    else:\n",
    "        return N * factorial(N - 1)\n",
    "N1 = 5\n",
    "print(factorial(N1))  # Output: 120\n",
    "\n",
    "N2 = 4\n",
    "print(factorial(N2))  # Output: 24\n"
   ]
  },
  {
   "cell_type": "markdown",
   "id": "2fe46673",
   "metadata": {},
   "source": [
    "# **Question 4**\n",
    "\n",
    "# Given a number N and a power P, the task is to find the exponent of this number raised to the given power, i.e. N^P.\n",
    "\n",
    "# **Example 1 :** \n",
    "\n",
    "# Input: N = 5, P = 2\n",
    "\n",
    "# Output: 25\n",
    "\n",
    "# **Example 2 :**\n",
    "# Input: N = 2, P = 5\n",
    "\n",
    "# Output: 32"
   ]
  },
  {
   "cell_type": "code",
   "execution_count": 4,
   "id": "a65f8f68",
   "metadata": {},
   "outputs": [
    {
     "name": "stdout",
     "output_type": "stream",
     "text": [
      "25\n",
      "32\n"
     ]
    }
   ],
   "source": [
    "def calculate_exponent(N, P):\n",
    "    return N ** P\n",
    "N1 = 5\n",
    "P1 = 2\n",
    "print(calculate_exponent(N1, P1))  # Output: 25\n",
    "\n",
    "N2 = 2\n",
    "P2 = 5\n",
    "print(calculate_exponent(N2, P2))  # Output: 32\n"
   ]
  },
  {
   "cell_type": "markdown",
   "id": "54466dd3",
   "metadata": {},
   "source": [
    "# **Question 5**\n",
    "\n",
    "# Given an array of integers **arr**, the task is to find maximum element of that array using recursion.\n",
    "\n",
    "# **Example 1:**\n",
    "\n",
    "# Input: arr = {1, 4, 3, -5, -4, 8, 6};\n",
    "# Output: 8\n",
    "\n",
    "# **Example 2:**\n",
    "\n",
    "# Input: arr = {1, 4, 45, 6, 10, -8};\n",
    "# Output: 45"
   ]
  },
  {
   "cell_type": "code",
   "execution_count": 5,
   "id": "04db70dd",
   "metadata": {},
   "outputs": [
    {
     "name": "stdout",
     "output_type": "stream",
     "text": [
      "8\n",
      "45\n"
     ]
    }
   ],
   "source": [
    "def find_max(arr, index):\n",
    "    if index == len(arr) - 1:\n",
    "        return arr[index]\n",
    "    else:\n",
    "        return max(arr[index], find_max(arr, index + 1))\n",
    "\n",
    "# Test the function\n",
    "arr1 = [1, 4, 3, -5, -4, 8, 6]\n",
    "print(find_max(arr1, 0))  # Output: 8\n",
    "\n",
    "arr2 = [1, 4, 45, 6, 10, -8]\n",
    "print(find_max(arr2, 0))  # Output: 45\n"
   ]
  },
  {
   "cell_type": "markdown",
   "id": "a8e204a0",
   "metadata": {},
   "source": [
    "# **Question 6**\n",
    "\n",
    "# Given first term (a), common difference (d) and a integer N of the Arithmetic Progression series, the task is to find Nth term of the series.\n",
    "\n",
    "# **Example 1:**\n",
    "\n",
    "# Input : a = 2 d = 1 N = 5\n",
    "# Output : 6\n",
    "# The 5th term of the series is : 6\n",
    "\n",
    "# **Example 2:**\n",
    "\n",
    "# Input : a = 5 d = 2 N = 10\n",
    "# Output : 23\n",
    "# The 10th term of the series is : 23"
   ]
  },
  {
   "cell_type": "code",
   "execution_count": 6,
   "id": "09d5c5a8",
   "metadata": {},
   "outputs": [
    {
     "name": "stdout",
     "output_type": "stream",
     "text": [
      "6\n",
      "23\n"
     ]
    }
   ],
   "source": [
    "def find_nth_term(a, d, N):\n",
    "    nth_term = a + (N - 1) * d\n",
    "    return nth_term\n",
    "\n",
    "# Test the function\n",
    "a1 = 2\n",
    "d1 = 1\n",
    "N1 = 5\n",
    "print(find_nth_term(a1, d1, N1))  # Output: 6\n",
    "\n",
    "a2 = 5\n",
    "d2 = 2\n",
    "N2 = 10\n",
    "print(find_nth_term(a2, d2, N2))  # Output: 23\n"
   ]
  },
  {
   "cell_type": "markdown",
   "id": "10b117b4",
   "metadata": {},
   "source": [
    "# **Question 7**\n",
    "\n",
    "# Given a string S, the task is to write a program to print all permutations of a given string.\n",
    "\n",
    "# **Example 1:**\n",
    "\n",
    "# ***Input:***\n",
    "\n",
    "# *S = “ABC”*\n",
    "\n",
    "# ***Output:***\n",
    "\n",
    "# *“ABC”, “ACB”, “BAC”, “BCA”, “CBA”, “CAB”*\n",
    "\n",
    "# **Example 2:**\n",
    "\n",
    "# ***Input:***\n",
    "\n",
    "# *S = “XY”*\n",
    "\n",
    "# ***Output:***\n",
    "\n",
    "# *“XY”, “YX”*\n"
   ]
  },
  {
   "cell_type": "code",
   "execution_count": 7,
   "id": "ffd3dce1",
   "metadata": {},
   "outputs": [
    {
     "name": "stdout",
     "output_type": "stream",
     "text": [
      "['ABC', 'ACB', 'BAC', 'BCA', 'CAB', 'CBA']\n",
      "['XY', 'YX']\n"
     ]
    }
   ],
   "source": [
    "def generate_permutations(perm, chars, result):\n",
    "    if not chars:\n",
    "        result.append(perm)\n",
    "        return\n",
    "\n",
    "    for i in range(len(chars)):\n",
    "        char = chars[i]\n",
    "        remaining_chars = chars[:i] + chars[i+1:]\n",
    "        generate_permutations(perm + char, remaining_chars, result)\n",
    "\n",
    "\n",
    "def print_permutations(s):\n",
    "    result = []\n",
    "    generate_permutations(\"\", s, result)\n",
    "    return result\n",
    "\n",
    "\n",
    "# Test the function\n",
    "s1 = \"ABC\"\n",
    "print(print_permutations(s1))  # Output: ['ABC', 'ACB', 'BAC', 'BCA', 'CAB', 'CBA']\n",
    "\n",
    "s2 = \"XY\"\n",
    "print(print_permutations(s2))  # Output: ['XY', 'YX']\n"
   ]
  },
  {
   "cell_type": "markdown",
   "id": "bf9d27f1",
   "metadata": {},
   "source": [
    "#  **Question 8**\n",
    "\n",
    "# Given an array, find a product of all array elements.\n",
    "\n",
    "# **Example 1:**\n",
    "\n",
    "# Input  : arr[] = {1, 2, 3, 4, 5}\n",
    "# Output : 120\n",
    "# **Example 2:**\n",
    "\n",
    "# Input  : arr[] = {1, 6, 3}\n",
    "# Output : 18"
   ]
  },
  {
   "cell_type": "code",
   "execution_count": 8,
   "id": "5da7ac54",
   "metadata": {},
   "outputs": [
    {
     "name": "stdout",
     "output_type": "stream",
     "text": [
      "120\n",
      "18\n"
     ]
    }
   ],
   "source": [
    "def product_of_array(arr):\n",
    "    product = 1\n",
    "    for num in arr:\n",
    "        product *= num\n",
    "    return product\n",
    "\n",
    "\n",
    "# Test the function\n",
    "arr1 = [1, 2, 3, 4, 5]\n",
    "print(product_of_array(arr1))  # Output: 120\n",
    "\n",
    "arr2 = [1, 6, 3]\n",
    "print(product_of_array(arr2))  # Output: 18\n"
   ]
  },
  {
   "cell_type": "code",
   "execution_count": null,
   "id": "aa0da740",
   "metadata": {},
   "outputs": [],
   "source": []
  }
 ],
 "metadata": {
  "kernelspec": {
   "display_name": "Python 3 (ipykernel)",
   "language": "python",
   "name": "python3"
  },
  "language_info": {
   "codemirror_mode": {
    "name": "ipython",
    "version": 3
   },
   "file_extension": ".py",
   "mimetype": "text/x-python",
   "name": "python",
   "nbconvert_exporter": "python",
   "pygments_lexer": "ipython3",
   "version": "3.9.12"
  }
 },
 "nbformat": 4,
 "nbformat_minor": 5
}
